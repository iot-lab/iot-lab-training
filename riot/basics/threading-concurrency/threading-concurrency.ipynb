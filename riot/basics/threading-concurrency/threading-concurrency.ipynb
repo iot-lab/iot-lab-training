{
 "cells": [
  {
   "cell_type": "markdown",
   "metadata": {},
   "source": [
    "## Thread concurrency\n",
    "\n",
    "In this exercise, you will learn a way to synchronize threads by using [RIOT mutexes](http://doc.riot-os.org/group__core__sync__mutex.html).\n",
    "\n",
    "In the proposed application, 2 threads will write and read _concurrently_ in a globally shared buffer. The mutex used will ensure that the reading thread can only read once the writing thread has completed his writing job.\n",
    "\n",
    "The two threads will behave as follow:\n",
    " - the main thread reads the content of a shared buffer and prints its content every 200ms\n",
    " - a second thread writes some content in this shared buffer every 100ms. But each write takes 200ms to complete. So if concurrency was not managed correctly, the reading thread could print corrupted content.\n",
    "\n",
    "### Implement the writer thread\n",
    "\n",
    "Let's start by implementing a background writer thread that takes a lot of time to write in the buffer.\n",
    "\n",
    "1. In the [main.c](main.c) file, add the mutex header include:\n",
    "\n",
    "```c\n",
    "#include \"mutex.h\"\n",
    "```\n",
    "\n",
    "2. We must now declare and instanciate a global shared buffer with an associated mutex, wrapped in a struct:\n",
    "\n",
    "```c\n",
    "typedef struct {\n",
    "    char buffer[128];\n",
    "    mutex_t lock;\n",
    "} data_t;\n",
    "static data_t data;\n",
    "```\n",
    "\n",
    "3. Since a new thread is created, a dedicated memory stack must also be allocated:\n",
    "\n",
    "```c\n",
    "static char writer_stack[THREAD_STACKSIZE_MAIN];\n",
    "```\n",
    "\n",
    "4. The writer thread endless loop is divided in 3 steps:\n",
    "\n",
    "  - _step 1_: try to acquire the mutex:\n",
    "\n",
    "  ```c\n",
    "           mutex_lock(&data.lock);\n",
    "  ```\n",
    "\n",
    "  - _step 2_: write some content in the buffer, slowly. This way concurrency access issues with the buffer are made more obvious: without synchronization, the reader thread could read the content in the middle of the write and get invalid data.\n",
    "\n",
    "  ```c\n",
    "           size_t p = sprintf(data.buffer, \"start: %\"PRIu32\"\", ztimer_now(ZTIMER_MSEC));\n",
    "           ztimer_sleep(ZTIMER_MSEC, 200);\n",
    "           p += sprintf(&data.buffer[p], \" - end: %\"PRIu32\"\", ztimer_now(ZTIMER_MSEC));\n",
    "  ```\n",
    "\n",
    "  - _step 3_: release the mutex so the reader thread can access the content of the buffer.\n",
    "\n",
    "  ```c\n",
    "           mutex_unlock(&data.lock);\n",
    "  ```\n",
    "\n",
    "5. In the main function, let's finally create the writer thread:\n",
    "\n",
    "```c\n",
    "    thread_create(writer_stack, sizeof(writer_stack), THREAD_PRIORITY_MAIN - 1,\n",
    "                  0, writer_thread, NULL, \"writer thread\");\n",
    "```\n",
    "\n",
    "### Implement the reader loop\n",
    "\n",
    "In the main function, in the while loop, let's just add the following code:\n",
    "\n",
    "```c\n",
    "        mutex_lock(&data.lock);\n",
    "        printf(\"%s\\n\", data.buffer);\n",
    "        mutex_unlock(&data.lock);\n",
    "```\n",
    "\n",
    "Each access to the buffer must be protected with `mutex_lock`/`mutex_unlock` calls to make sure the buffer can be safely read.\n",
    "\n",
    "### Test the application\n",
    "\n",
    "Open a terminal with the `File > New > Terminal` menu and run there the following command:"
   ]
  },
  {
   "cell_type": "raw",
   "metadata": {},
   "source": [
    "make -C riot/basics/threading-concurrency all term"
   ]
  },
  {
   "cell_type": "markdown",
   "metadata": {},
   "source": [
    "If everything works as expected, you should get the following output:"
   ]
  },
  {
   "cell_type": "raw",
   "metadata": {},
   "source": [
    "RIOT application with thread safe concurrency\n",
    "start: 10 - end: 200403\n",
    "start: 300480 - end: 500729\n",
    "start: 600802 - end: 800980\n",
    "start: 901055 - end: 1101233\n",
    "start: 1201313 - end: 1401458\n",
    "start: 1501573 - end: 1701730\n",
    "start: 1801804 - end: 2002069"
   ]
  },
  {
   "cell_type": "markdown",
   "metadata": {},
   "source": [
    "You can try to remove the use of the mutex everywhere and verify that the output can be incomplete sometimes:"
   ]
  },
  {
   "cell_type": "raw",
   "metadata": {},
   "source": [
    "start: 19 - end: 200087\n",
    "start: 300221\n",
    "start: 600336\n",
    "start: 600336 - end: 800405\n",
    "start: 900490\n",
    "start: 1200622\n",
    "start: 1200622 - end: 1400716"
   ]
  }
 ],
 "metadata": {
  "kernelspec": {
   "display_name": "Python 3 (ipykernel)",
   "language": "python",
   "name": "python3"
  },
  "language_info": {
   "codemirror_mode": {
    "name": "ipython",
    "version": 3
   },
   "file_extension": ".py",
   "mimetype": "text/x-python",
   "name": "python",
   "nbconvert_exporter": "python",
   "pygments_lexer": "ipython3",
   "version": "3.9.7"
  }
 },
 "nbformat": 4,
 "nbformat_minor": 4
}
