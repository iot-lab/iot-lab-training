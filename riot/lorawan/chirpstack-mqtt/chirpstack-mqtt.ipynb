{
 "cells": [
  {
   "cell_type": "markdown",
   "metadata": {},
   "source": [
    "## Use MQTT with ChirpStack\n",
    "\n",
    "**Prerequisites:** You must have followed at least the [getting started ChirpStack notebook](../chirpstack-getting-started/chirpstack-getting-started.ipynb) before starting this one.\n",
    "\n",
    "> We also consider that the application id is **iotlab-lorawan** and the device id is **iotlab-node** but you'll have to use the ids corresponding to your application and device configured in ChirpStack.\n",
    "\n",
    "In this notebook, you will continue the work done in the [getting started ChirpStack notebook](../chirpstack-getting-started/chirpstack-getting-started.ipynb) and use the MQTT protocol to be able to receive locally the sensor values measured by the LoRa end-device. You will also adapt the RIOT application to be able to receive messages sent via MQTT.\n",
    "\n",
    "More precisely, you will:\n",
    "1. Configure the MQTT access to the ChirpStack LoRaWAN Server\n",
    "2. Start an experiment on IoT-LAB with a LoRa device sending its sensor measures to ChirpStack\n",
    "3. Subscribe to the MQTT topic to receive in Jupyterlab the messages sent by the device\n",
    "4. Extend the provided RIOT application (see the [Makefile](Makefile) and [main.c](main.c) files) to be able to receive messages sent from the LoRaWAN backend\n",
    "5. Publish messages from Jupyterlab and verify they are received on the device\n",
    "\n",
    "### A brief overview of MQTT\n",
    "\n",
    "MQTT is a publish/subscribe messaging protocol designed for small sensors and mobile devices.\n",
    "\n",
    "The MQTT protocol works with a central broker that handles topics to which clients can subscribe or publish to, the principle is illustrated in the following figure:\n",
    "\n",
    "<figure style=\"text-align:center\">\n",
    "    <img src=\"images/pub-sub-model.png\" width=\"500\" align=\"center\"/><br/><br/>\n",
    "    <figcaption><em>Publish/subscribe model of MQTT<br/>Source: <a href=\"https://www.researchgate.net/publication/327661439_The_Addition_of_Geolocation_to_Sensor_Networks\">https://www.researchgate.net/publication/327661439_The_Addition_of_Geolocation_to_Sensor_Networks</a></em></figcaption>\n",
    "</figure>\n",
    "\n",
    "Let's say client `A` subscribes to the topic `/example/topic`, each message published by client `B` on the same topic will be received by `A`. Several clients can subscribe to the same topic and several clients can publish on the same topic.\n",
    "\n",
    "The MQTT is very easy to put in place because it only requires one server, the MQTT broker which will handle the subcriptions and publications of all its clients.\n",
    "\n",
    "The ChirpStack LoRaWAN server provides an MQTT API in order to exchange messages with end-devices. Data access with via MQTT on ChirpStack is documented [here](https://www.chirpstack.io/docs/chirpstack/integrations/mqtt.html).\n",
    "\n",
    "The ChirpStack API defines MQTT topics to interact with the end-devices (replace `iotlab-node` with your device id and `iotlab-lorawan` with your application id:\n",
    "- subscribe to the topic **+/devices/iotlab-node/up** to receive messages sent by the end-device\n",
    "- publish on the topic **iotlab-lorawan/devices/iotlab-node/down** to send a message to the end-device"
   ]
  },
  {
   "cell_type": "markdown",
   "metadata": {},
   "source": [
    "### Start an experiment on IoT-LAB\n",
    "\n",
    "Now that we have a ready application, we can try it on the real hardware provided remotely by IoT-LAB.\n",
    "\n",
    "1. Submit an experiment with one LoRa device on IoT-LAB:"
   ]
  },
  {
   "cell_type": "code",
   "execution_count": null,
   "metadata": {},
   "outputs": [],
   "source": [
    "!iotlab-experiment submit -n \"chirpstack-mqtt\" -d 120 -l 1,archi=st-lrwan1:sx1276+site=saclay"
   ]
  },
  {
   "cell_type": "markdown",
   "metadata": {},
   "source": [
    "2. Wait for the experiment to be in the \"Running\" state:"
   ]
  },
  {
   "cell_type": "code",
   "execution_count": null,
   "metadata": {},
   "outputs": [],
   "source": [
    "!iotlab-experiment wait --timeout 30 --cancel-on-timeout"
   ]
  },
  {
   "cell_type": "markdown",
   "metadata": {},
   "source": [
    "**Note:** If the command above returns the message `Timeout reached, cancelling experiment <exp_id>`, try to re-submit your experiment later.\n",
    "\n",
    "3. Open a new terminal with the menu `File > New > Terminal` and in the terminal, run the following command to connect to the serial link of the LoRa board:"
   ]
  },
  {
   "cell_type": "raw",
   "metadata": {},
   "source": [
    "make IOTLAB_NODE=auto -C riot/lorawan/chirpstack-sensors term"
   ]
  },
  {
   "cell_type": "markdown",
   "metadata": {},
   "source": [
    "**Keep this command running until the end of this notebook.**\n",
    "\n",
    "4. In the [main.c](main.c) file, configure the identifiers (application and device) and the application key. You can find them in the device overview on ChirpStack. For the moment, they are provided with C array full of zeros :\n",
    "\n",
    "```c\n",
    "static const uint8_t appeui[LORAMAC_APPEUI_LEN] = { 0x00, 0x00, 0x00, 0x00, 0x00, 0x00, 0x00, 0x00 };\n",
    "static const uint8_t deveui[LORAMAC_DEVEUI_LEN] = { 0x00, 0x00, 0x00, 0x00, 0x00, 0x00, 0x00, 0x00 };\n",
    "static const uint8_t appkey[LORAMAC_APPKEY_LEN] = { 0x00, 0x00, 0x00, 0x00, 0x00, 0x00, 0x00, 0x00, 0x00, 0x00, 0x00, 0x00, 0x00, 0x00, 0x00, 0x00 };\n",
    "```\n",
    "\n",
    "**note:** in the device overview on ChirpStack, it's possible to switch the representation of the EUIs and key from an hexadecimal representation (the default) to a C byte array representation (the one that interests us here): use the `<>` button to switch from one to the other and keep the MSB order."
   ]
  },
  {
   "cell_type": "markdown",
   "metadata": {},
   "source": [
    "5. Build and flash the application on the device:"
   ]
  },
  {
   "cell_type": "code",
   "execution_count": null,
   "metadata": {},
   "outputs": [],
   "source": [
    "!make IOTLAB_NODE=auto flash"
   ]
  },
  {
   "cell_type": "markdown",
   "metadata": {},
   "source": [
    "In the terminal, ensure the join procedure is successful and messages are sent every 30s. Also you can verify on the ChirpStack Event console that the messages are correctly received.\n",
    "\n",
    "### Use MQTT clients to receive messages for ChirpStack\n",
    "\n",
    "The [Eclipse Mosquitto project](https://mosquitto.org/) provides all the tools to use MQTT from a workstation. The [mosquitto-clients](https://packages.ubuntu.com/fr/bionic/mosquitto-clients) package contains command line tools to connect to the broker and to subscribe/publish on topics. These command line tools are already installed in jupyterlab.\n",
    "\n",
    "The [ChirpStack page](https://www.chirpstack.io/docs/chirpstack/integrations/mqtt.html) explains how to use the mosquitto-clients in order to connect them to the broker.\n",
    "\n",
    "1. For security reasons, we will use the TLS authentication mode, so we first need to [generate the certificate files](certs.md)"
   ]
  },
  {
   "cell_type": "markdown",
   "metadata": {},
   "source": [
    "2. Open another terminal with `File > New > Terminal` and run the following command there (we explain below what to use for `<AppId>`):"
   ]
  },
  {
   "cell_type": "raw",
   "metadata": {},
   "source": [
    "mosquitto_sub -h lns4-mqtt.iot-lab.info -p 9883 --cafile riot/lorawan/chirpstack-mqtt/certs/ca.crt --cert riot/lorawan/chirpstack-mqtt/certs/cert.crt --key riot/lorawan/chirpstack-mqtt/certs/cert.key -t \"application/<AppId>/device/+/event/up\" -v "
   ]
  },
  {
   "cell_type": "markdown",
   "metadata": {},
   "source": [
    "- `<AppId>` corresponds to your application identifier provided by the ChirpStack Application console. \n",
    "\n",
    "If everything is correct the `mosquitto_sub` should print a json-like string each time a message is sent by the end-device:\n",
    "\n",
    "```\n",
    "application/<AppId>/device/xxxxxxxxxxxxxxxx/event/up {\"deduplicationId\":\"xxxxxxxxxxxxxxxx\",\"time\":\"2025-07-04T06:58:28.943230+00:00\",\"deviceInfo\":{\"tenantId\":\"xxxxxxxxxxxxxxxx\",\"tenantName\":\"xxxxxxxxxxxxxxxx\",\"applicationId\":\"<AppId>\",\"applicationName\":\"lrwan-mqtt\",\"deviceProfileId\":\"xxxxxxxxxxxxxxxx\",\"deviceProfileName\":\"lrwan-mqtt\",\"deviceName\":\"lrwan-mqtt\",\"devEui\":\"xxxxxxxxxxxxxxxx\",\"deviceClassEnabled\":\"CLASS_A\",\"tags\":{}},\"devAddr\":\"xxxxxxxx\",\"adr\":false,\"dr\":2,\"fCnt\":80,\"fPort\":2,\"confirmed\":true,\"data\":\"SDogNDUuMSUsIFQ6MjcuMUM=\",\"object\":{\"humidity\":45.1,\"temperature\":27.1,\"message\":\"H: 45.1%, T:27.1C\"},\"rxInfo\":[{\"gatewayId\":\"xxxxxxxxxxxxxxxx\",\"uplinkId\":27542,\"gwTime\":\"2025-07-04T06:58:28.943230+00:00\"... ,\"txInfo\":{\"frequency\":868300000,\"modulation\":{\"lora\":{\"bandwidth\":125000,\"spreadingFactor\":10,\"codeRate\":\"CR_4_5\"}}},\"regionConfigId\":\"eu868\"}\n",
    "```\n",
    "\n",
    "If you look at the json content, the field `data` contains the message sent by the device. The message is encoded in [base64](https://en.wikipedia.org/wiki/Base64), but we can easily decode it using the `base64` module of Python (replace the value assigned to `payload_raw` with the values you get from `mosquitto_sub`:"
   ]
  },
  {
   "cell_type": "code",
   "execution_count": null,
   "metadata": {},
   "outputs": [],
   "source": [
    "import base64\n",
    "payload_raw = \"SDogNDkuOCUsIFQ6MjcuM0M=\"\n",
    "\n",
    "print(base64.b64decode(payload_raw))"
   ]
  },
  {
   "cell_type": "markdown",
   "metadata": {},
   "source": [
    "### Send messages to the end-device with MQTT\n",
    "\n",
    "In order to send messages to the end-device with MQTT, we have to do two things:\n",
    "- modify the RIOT application in order to add receiving capabilities\n",
    "- use the `mosquitto_pub` client\n",
    "\n",
    "The reception of LoRaWAN messages in RIOT is also described in the [Loramac package online documentation](http://doc.riot-os.org/group__pkg__semtech-loramac.html). In short, one need to add the `semtech_loramac_rx` module to the build and create a RIOT _thread_ to handle the received messages.\n",
    "\n",
    "Thread usage in RIOT is documented online [here](http://doc.riot-os.org/group__core__thread.html).\n",
    "\n",
    "1. Edit the [Makefile](Makefile) file and add the `semtech_loramac_rx` module (just under `USEMODULE = hts221`\n",
    "\n",
    "```\n",
    "USEMODULE += semtech_loramac_rx\n",
    "```\n",
    "\n",
    "2. Edit the [main.c](main.c) file with the following changes:\n",
    "\n",
    "a. Add the following block under the line 10:\n",
    "  \n",
    "```c\n",
    "#include \"thread.h\"\n",
    "#define RECV_MSG_QUEUE                   (4U)\n",
    "static msg_t _recv_queue[RECV_MSG_QUEUE];\n",
    "static char _recv_stack[THREAD_STACKSIZE_DEFAULT];\n",
    "```\n",
    "\n",
    "    This block includes the required API for managing RIOT thread as well as configuring the thread memory stack and a message queue, because communication with the loramac background thread is asynchronous.\n",
    "\n",
    "b. Between the keys and the `main` function, add the function running the reception thread:\n",
    "  \n",
    "```c\n",
    "static void *_recv(void *arg)\n",
    "{\n",
    "    msg_init_queue(_recv_queue, RECV_MSG_QUEUE);\n",
    "    (void)arg;\n",
    "    while (1) {\n",
    "        /* blocks until a message is received */\n",
    "        semtech_loramac_recv(&loramac);\n",
    "        loramac.rx_data.payload[loramac.rx_data.payload_len] = 0;\n",
    "        printf(\"Data received: %s, port: %d\\n\",\n",
    "             (char *)loramac.rx_data.payload, loramac.rx_data.port);\n",
    "    }\n",
    "    return NULL;\n",
    "}\n",
    "```\n",
    "  \n",
    "For details, the `semtech_loramac_recv` function is described in the [loramac API page of the RIOT online documentation](http://doc.riot-os.org/semtech__loramac_8h.html).\n",
    "  \n",
    "c. Now everything is in place to call the `thread_create` function that will start the thread in background. So in the `main` function, after the `Join procedure successful` message is printed and before the `while` loop, add the following:\n",
    "  \n",
    "```c\n",
    "thread_create(_recv_stack, sizeof(_recv_stack),\n",
    "              THREAD_PRIORITY_MAIN - 1, 0, _recv, NULL, \"recv thread\");\n",
    "```\n",
    "\n",
    "3. You can now build and flash the new version of the application:"
   ]
  },
  {
   "cell_type": "code",
   "execution_count": null,
   "metadata": {},
   "outputs": [],
   "source": [
    "!make IOTLAB_NODE=auto flash"
   ]
  },
  {
   "cell_type": "markdown",
   "metadata": {},
   "source": [
    "Introduce **ChirpStack** to do queues with the payload encoded in base64:"
   ]
  },
  {
   "cell_type": "code",
   "execution_count": null,
   "metadata": {},
   "outputs": [],
   "source": [
    "import base64\n",
    "\n",
    "payload = b\"the message to send\"\n",
    "\n",
    "print(base64.b64encode(payload).decode())"
   ]
  },
  {
   "cell_type": "markdown",
   "metadata": {},
   "source": [
    "### Free up the resources\n",
    "\n",
    "Since you finished the training, stop your experiment to free up the experiment nodes:"
   ]
  },
  {
   "cell_type": "code",
   "execution_count": null,
   "metadata": {},
   "outputs": [],
   "source": [
    "!iotlab-experiment stop"
   ]
  },
  {
   "cell_type": "markdown",
   "metadata": {},
   "source": [
    "The serial link connection through SSH will be closed automatically."
   ]
  }
 ],
 "metadata": {
  "kernelspec": {
   "display_name": "Python 3 (ipykernel)",
   "language": "python",
   "name": "python3"
  },
  "language_info": {
   "codemirror_mode": {
    "name": "ipython",
    "version": 3
   },
   "file_extension": ".py",
   "mimetype": "text/x-python",
   "name": "python",
   "nbconvert_exporter": "python",
   "pygments_lexer": "ipython3",
   "version": "3.9.7"
  }
 },
 "nbformat": 4,
 "nbformat_minor": 4
}
