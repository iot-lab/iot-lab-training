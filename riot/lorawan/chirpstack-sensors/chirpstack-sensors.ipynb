{
 "cells": [
  {
   "cell_type": "markdown",
   "metadata": {},
   "source": [
    "## Autonomously send real sensor values to ChirpStack\n",
    "\n",
    "**Prerequisites:** You must have followed the [getting started with ChirpStack notebook](../chirpstack-getting-started/chirpstack-getting-started.ipynb) before starting this one.\n",
    "\n",
    "> We also consider that the application id is **iotlab-lorawan** and the device id is **iotlab-node** but you'll have to use the ids corresponding to your application and device configured in ChirpStack.\n",
    "\n",
    "In this notebook, you will write an autonomous LoRaWAN application with the following specifications:\n",
    "- The application automatically connects to ChirpStack at startup using the OTAA activation and a datarate index of 5\n",
    "- In case of an activation issue, an error message is printed to the console and the application returns\n",
    "- A message is printed to the console to confirm the success of the activation\n",
    "- A message is sent periodically (check the duty cycle!) to the ChirpStack LoRaWAN server. This message will first contain a basic string and in a second phase, it will contain the values measured on the temperature and humidity sensors.\n",
    "- A message is printed to the console each time the message is sent with success.\n",
    "\n",
    "We provide a starting RIOT application with a [Makefile](Makefile) and a [main.c](./main.c). The [Makefile](Makefile) is already configured but you will have to edit the [main.c](./main.c) by following the instructions of this Notebook.\n",
    "\n",
    "### Configure the ChirpStack payload format\n",
    "\n",
    "Before we start coding the application, we need to change how the data is displayed in the **Events** tab of your ChirpStack application.\n",
    "\n",
    "You can change this format of the payload used to display the content of an uplink message in the `Device Profile/<name-profile>/Codec` tab:\n",
    "\n",
    "<figure style=\"text-align:center\">\n",
    "    <img src=\"images/chirpstack-tab-payload-format.png\" width=\"448\" align=\"center\"/><br/><br/>\n",
    "    <figcaption><em>Application `Payload formatters` tab in the ChirpStack console</em></figcaption>\n",
    "</figure>\n",
    "\n",
    "1. Select `Javascript` in the drop down button.\n",
    "2. Copy the following code snippet in the `decoder` text edit:\n",
    "\n",
    "```js\n",
    "function decodeUplink(input) {\n",
    "var message = \"\";\n",
    "\n",
    "for  (var i=0; i < input.bytes.length; i++) {\n",
    "    message += String.fromCharCode(input.bytes[i]);\n",
    "}\n",
    "\n",
    "var humidity_var = message.match(/H:\\s*([\\d.]+)%/);\n",
    "var temp_var = message.match(/T:\\s*([\\d.]+)C/);\n",
    "\n",
    "return {\n",
    "    data: {\n",
    "      humidity: humidity_var ? parseFloat(humidity_var[1]) : null,\n",
    "      temperature: temp_var ? parseFloat(temp_var[1]) : null\n",
    "    },\n",
    "    warnings: [],\n",
    "    errors: []\n",
    "  };\n",
    "}\n",
    "```\n",
    "3. Click on the `Save changes` button at the end of the page\n",
    "\n",
    "### Implement an autonomous RIOT application\n",
    "\n",
    "The LoRaWAN API of RIOT is documented online at http://doc.riot-os.org/group__pkg__semtech-loramac.html.\n",
    "\n",
    "Let's edit the [main.c](./main.c).\n",
    "\n",
    "1. Add the necessary includes for the sx127x radio driver under the comment `/* Add sx127x radio driver necessary includes here */`:\n",
    "\n",
    "```c\n",
    "#include \"sx127x.h\"\n",
    "#include \"sx127x_netdev.h\"\n",
    "#include \"sx127x_params.h\"\n",
    "```\n",
    "\n",
    "2. Add the necessary includes for the loramac stack under the comment `/* Add loramac necessary includes here */`:\n",
    "\n",
    "\n",
    "```c\n",
    "#include \"net/loramac.h\"     /* core loramac definitions */\n",
    "#include \"semtech_loramac.h\" /* package API */\n",
    "```\n",
    "\n",
    "\n",
    "3. Declare the global descriptor for the sx127x radio driver:\n",
    "\n",
    "```c\n",
    "static sx127x_t sx127x;      /* The sx127x radio driver descriptor */\n",
    "```\n",
    "\n",
    "\n",
    "4. Declare the global descriptor for the loramac stack:\n",
    "\n",
    "\n",
    "```c\n",
    "static semtech_loramac_t loramac;  /* The loramac stack descriptor */\n",
    "```\n",
    "\n",
    "\n",
    "5. Configure the identifiers (application and device) and the application key. You can find them in the device overview on ChirpStack.\n",
    "\n",
    "\n",
    "```c\n",
    "static const uint8_t appeui[LORAMAC_APPEUI_LEN] = { 0x00, 0x00, 0x00, 0x00, 0x00, 0x00, 0x00, 0x00 };\n",
    "static const uint8_t deveui[LORAMAC_DEVEUI_LEN] = { 0x00, 0x00, 0x00, 0x00, 0x00, 0x00, 0x00, 0x00 };\n",
    "static const uint8_t appkey[LORAMAC_APPKEY_LEN] = { 0x00, 0x00, 0x00, 0x00, 0x00, 0x00, 0x00, 0x00, 0x00, 0x00, 0x00, 0x00, 0x00, 0x00, 0x00, 0x00 };\n",
    "```\n",
    "\n",
    "**note:** in the device overview on ChirpStack, it's possible to switch the representation of the EUIs and key from an hexadecimal representation (the default) to a C byte array representation (the one that interests us here): use the `<>` button to switch from one to the other and keep the MSB order.\n",
    "\n",
    "5. At the beginning of the main function, initialize the radio driver:\n",
    "\n",
    "```c\n",
    "    sx127x_setup(&sx127x, &sx127x_params[0], 0);\n",
    "    loramac.netdev = &sx127x.netdev;\n",
    "    loramac.netdev->driver = &sx127x_driver;\n",
    "```\n",
    "\n",
    "6. At the beginning of the main function, initialize the loramac stack:\n",
    "\n",
    "```c\n",
    "    semtech_loramac_init(&loramac);\n",
    "```\n",
    "\n",
    "7. Then, configure the keys:\n",
    "\n",
    "```c\n",
    "    semtech_loramac_set_deveui(&loramac, deveui);\n",
    "    semtech_loramac_set_appeui(&loramac, appeui);\n",
    "    semtech_loramac_set_appkey(&loramac, appkey);\n",
    "```\n",
    "\n",
    "8. All devices are very close to the gateway in IoT-LAB, so we can configure a fast datarate. Let's use DR5:\n",
    "\n",
    "```c\n",
    "    semtech_loramac_set_dr(&loramac, 5);\n",
    "```\n",
    "\n",
    "9. Add the logic to join the network using the OTAA activation:\n",
    "\n",
    "```c\n",
    "    if (semtech_loramac_join(&loramac, LORAMAC_JOIN_OTAA) != SEMTECH_LORAMAC_JOIN_SUCCEEDED) {\n",
    "        puts(\"Join procedure failed\");\n",
    "        return 1;\n",
    "    }\n",
    "    puts(\"Join procedure succeeded\");\n",
    "```\n",
    "\n",
    "10. Finally, in the `while` loop (under the comment `/* send the message here */`), send the message or continue if the message couldn't be sent:\n",
    "\n",
    "```c\n",
    "        if (semtech_loramac_send(&loramac,\n",
    "                                 (uint8_t *)message, strlen(message)) != SEMTECH_LORAMAC_TX_DONE) {\n",
    "            printf(\"Cannot send message '%s'\\n\", message);\n",
    "        }\n",
    "        else {\n",
    "            printf(\"Message '%s' sent\\n\", message);\n",
    "        }\n",
    "```\n",
    "\n",
    "11. Save the changes in main.c using the `Ctrl + s` keyboard shortcut and then verify that the application builds correctly:"
   ]
  },
  {
   "cell_type": "code",
   "execution_count": null,
   "metadata": {},
   "outputs": [],
   "source": [
    "!make"
   ]
  },
  {
   "cell_type": "markdown",
   "metadata": {},
   "source": [
    "### Start an experiment on IoT-LAB\n",
    "\n",
    "Now that we have a ready application, we can try it on the real hardware provided remotely by IoT-LAB.\n",
    "\n",
    "1. Submit an experiment with one LoRa device on IoT-LAB:"
   ]
  },
  {
   "cell_type": "code",
   "execution_count": null,
   "metadata": {},
   "outputs": [],
   "source": [
    "!iotlab-experiment submit -n \"chirpstack-sensors\" -d 120 -l 1,archi=st-lrwan1:sx1276+site=saclay"
   ]
  },
  {
   "cell_type": "markdown",
   "metadata": {},
   "source": [
    "2. Wait for the experiment to be in the \"Running\" state:"
   ]
  },
  {
   "cell_type": "code",
   "execution_count": null,
   "metadata": {},
   "outputs": [],
   "source": [
    "!iotlab-experiment wait --timeout 30 --cancel-on-timeout"
   ]
  },
  {
   "cell_type": "markdown",
   "metadata": {},
   "source": [
    "**Note:** If the command above returns the message `Timeout reached, cancelling experiment <exp_id>`, try to re-submit your experiment later.\n",
    "\n",
    "3. Open a new terminal with the menu `File > New > Terminal` and in the terminal, run the following command to connect to the serial link of the LoRa board:"
   ]
  },
  {
   "cell_type": "raw",
   "metadata": {},
   "source": [
    "make IOTLAB_NODE=auto -C riot/lorawan/chirpstack-sensors term"
   ]
  },
  {
   "cell_type": "markdown",
   "metadata": {},
   "source": [
    "**It is normal if nothing is printed: there's normally no firmware running on the board. The firmware will be flashed during the next step**\n",
    "\n",
    "**Keep this command running until the end of this notebook.**"
   ]
  },
  {
   "cell_type": "markdown",
   "metadata": {},
   "source": [
    "4. Build and flash the application on the LoRa board:"
   ]
  },
  {
   "cell_type": "code",
   "execution_count": null,
   "metadata": {},
   "outputs": [],
   "source": [
    "!make IOTLAB_NODE=auto flash-only"
   ]
  },
  {
   "cell_type": "markdown",
   "metadata": {},
   "source": [
    "Once the flashing is complete, in the terminal, you should see the messages corresponding to the join procedure (\"Join procedure succeeed\") and the messages sent every 20s.\n",
    "\n",
    "If the device cannot join, verify the configured EUIs and the application key.\n",
    "\n",
    "If everything works as expected, you should see the decoded \"This is RIOT!\" messages appear in the **Events** tab of your application:\n",
    "\n",
    "\n",
    "<figure style=\"text-align:center\">\n",
    "    <img src=\"images/chirpstack-decoded-messages-received.png\" width=\"1262\" align=\"center\"/><br/><br/>\n",
    "    <figcaption><em>Decoded messages received in the ChirpStack console</em></figcaption>\n",
    "</figure>\n",
    "\n",
    "### Read the sensor values\n",
    "\n",
    "Let's add the final step: read some sensor values from the [X-Nucleo extension shield](https://www.st.com/en/ecosystems/x-nucleo-iks01a2.html).\n",
    "\n",
    "The X-Nucleo extension shield provides several ST Microelectronics sensors including the **HTS221** which measures temperature and humidity. The microcontroller interacts with this sensor using the [I2C serial bus](https://en.wikipedia.org/wiki/I%C2%B2C).\n",
    "\n",
    "Let's now edit the [Makefile](Makefile) and [main.c](main.c) to read this sensor.\n",
    "\n",
    "1. To be able to use the _hts221_ sensor with RIOT, you must first load the corresponding RIOT module in the application's [Makefile](Makefile). Add the following line to the Makefile (under the addition of the `ztimer_msec` module):\n",
    "\n",
    "\n",
    "```mk\n",
    "USEMODULE += hts221\n",
    "```\n",
    "\n",
    "All dependency modules required by the sensor driver will be loaded automatically during compilation, in particular the I2C bus driver used by the board to communicate with the sensor.\n",
    "\n",
    "2. In the [main.c](main.c) file, Add the necessary header inclusions first (just below `#includes \"semtech_loramac.h\"`):\n",
    "\n",
    "\n",
    "```c\n",
    "#include \"hts221.h\"\n",
    "#include \"hts221_params.h\"\n",
    "```\n",
    "\n",
    "\n",
    "3. Declare the variable containing the driver descriptor of the sensor (below the declaration of the `loramac` variable):\n",
    "\n",
    "```c\n",
    "static hts221_t hts221;\n",
    "```\n",
    "\n",
    "4. At the very beginning of the `main` function, add this sensor driver initialization sequence:\n",
    "\n",
    "```c\n",
    "    if (hts221_init(&hts221, &hts221_params[0]) != HTS221_OK) {\n",
    "        puts(\"Sensor initialization failed\");\n",
    "        return 1;\n",
    "    }\n",
    "\n",
    "    if (hts221_power_on(&hts221) != HTS221_OK) {\n",
    "        puts(\"Sensor initialization power on failed\");\n",
    "        return 1;\n",
    "    }\n",
    "\n",
    "    if (hts221_set_rate(&hts221, hts221.p.rate) != HTS221_OK) {\n",
    "        puts(\"Sensor continuous mode setup failed\");\n",
    "        return 1;\n",
    "    }\n",
    "```\n",
    "\n",
    "This sequence is adapted from the [hts221 test appplication](https://github.com/RIOT-OS/RIOT/blob/master/tests/driver_hts221/main.c#L34-L45).\n",
    "\n",
    "5. Finally, add the following code at the beginning of the `while` loop to read the sensor data. You can also delete the line `char *message = \"This is RIOT!\"`\n",
    "which is now useless:\n",
    "\n",
    "```c\n",
    "        /* do some measurements */\n",
    "        uint16_t humidity = 0;\n",
    "        int16_t temperature = 0;\n",
    "        if (hts221_read_humidity(&hts221, &humidity) != HTS221_OK) {\n",
    "            puts(\"Cannot read humidity!\");\n",
    "        }\n",
    "        if (hts221_read_temperature(&hts221, &temperature) != HTS221_OK) {\n",
    "            puts(\"Cannot read temperature!\");\n",
    "        }\n",
    "\n",
    "        char message[64];\n",
    "        sprintf(message, \"H: %d.%d%%, T:%d.%dC\",\n",
    "                (humidity / 10), (humidity % 10),\n",
    "                (temperature / 10), (temperature % 10));\n",
    "        printf(\"Sending message '%s'\\n\", message);\n",
    "```\n",
    "\n",
    "6. Build and flash the new application to the LoRa board of your experiment:"
   ]
  },
  {
   "cell_type": "code",
   "execution_count": null,
   "metadata": {},
   "outputs": [],
   "source": [
    "!make IOTLAB_NODE=auto flash"
   ]
  },
  {
   "cell_type": "markdown",
   "metadata": {},
   "source": [
    "Now you can switch back to the terminal that is connected to the serial port of the LoRa board: **a new join procedure should be performed and the sensor data are sent every 20s to chirpstack**.\n",
    "\n",
    "<figure style=\"text-align:center\">\n",
    "    <img src=\"images/chirpstack-sensor-data.png\" width=\"1332\" align=\"center\"/><br/><br/>\n",
    "    <figcaption><em>Sensor data received in the ChirpStack console</em></figcaption>\n",
    "</figure>\n"
   ]
  },
  {
   "cell_type": "code",
   "execution_count": null,
   "metadata": {},
   "outputs": [],
   "source": [
    "!base64 -d <<< SDogNTEuNiUsIFQ6MjkuM0M="
   ]
  },
  {
   "cell_type": "markdown",
   "metadata": {},
   "source": [
    "### Free up the resources\n",
    "\n",
    "Since you finished the training, stop your experiment to free up the experiment nodes:"
   ]
  },
  {
   "cell_type": "code",
   "execution_count": null,
   "metadata": {},
   "outputs": [],
   "source": [
    "!iotlab-experiment stop"
   ]
  },
  {
   "cell_type": "markdown",
   "metadata": {},
   "source": [
    "The serial link connection through SSH will be closed automatically."
   ]
  }
 ],
 "metadata": {
  "kernelspec": {
   "display_name": "Python 3 (ipykernel)",
   "language": "python",
   "name": "python3"
  },
  "language_info": {
   "codemirror_mode": {
    "name": "ipython",
    "version": 3
   },
   "file_extension": ".py",
   "mimetype": "text/x-python",
   "name": "python",
   "nbconvert_exporter": "python",
   "pygments_lexer": "ipython3",
   "version": "3.9.7"
  }
 },
 "nbformat": 4,
 "nbformat_minor": 4
}
