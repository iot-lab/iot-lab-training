{
 "cells": [
  {
   "cell_type": "markdown",
   "metadata": {},
   "source": [
    "##  Live plot of LoRaWAN payloads\n",
    "\n",
    "### Introduction\n",
    "\n",
    "In the [LoRaWAN getting-started Notebook](../getting-started/lorawan-getting-started.ipynb), we learnt how to use LoRa boards available on IoT-LAB with [TheThingsNetwork LoRaWAN provider](https://www.thethingsnetwork.org/) (TTN). In [Use MQTT with TTN Notebook](../ttn-mqtt/ttn-mqtt.ipynb), we sent/received messages to/from the TTN backend with MQTT. Let's now write our own Python script to receive the MQTT payloads and plot them as they arrive.\n",
    "\n",
    "- The first step will be to implement the RIOT application. This is explained in the next section.\n",
    "- The second step of this Notebook is to write a Python script, based on paho-mqtt to receive the payloads.\n",
    "- And in the last step of this Notebook, you will use matplotlib to display the received values as they arrive.\n",
    "\n",
    "### Write your RIOT application\n",
    "\n",
    "To limit the size of the payload exchanged, we'll format them using **[Cayenne LPP](https://docs.mydevices.com/docs/lorawan/cayenne-lpp)**. This format is a binary format designed to reduce the payload size (remember that LoRaWAN has a very low datarate) while remaining quite flexible: the format encodes several channels that contain different kind of sendor data types (temperature, relative humidity, etc).\n",
    "\n",
    "In the same directory as this notebook, you will find the 2 files of a basic RIOT application: `Makefile`, `main.c`. This application already contains code to read sensors, join a LoRaWAN and send a basic payload every 20s.\n",
    "\n",
    "You can double click the files in the JupyterLab browser to open them in new tabs and start editing them.\n",
    "\n",
    "As you can see, the application is already quite complete but the DEVEUI/APPEUI/APPKEY are empty (full of zeros) and the encoding to the Cayenne LPP format is missing in `main.c`. Fortunately, RIOT provides support for [a library for encoding to the Cayenne LPP](https://github.com/aabadie/cayenne-lpp). This is what will be used in this Notebook.\n",
    "\n",
    "1. Change the DEVEUI, APPEUI, APPKEY default values (see C static arrays lines 23 to 35 in main.c). These values are available in your TTN device management page.\n",
    "\n",
    "  **Note**: in the TTN device management page, you can switch the DEVEUI/APPEUI/APPKEY values from a plain hexadecimal string representation to a C array representation by clicking the `<>` button. Keep the _msb_ representation.\n",
    "  \n",
    "  **Important**: if you don't edit the deveui/appeui/appkey values, you device won't be able to join the network and send messages.\n",
    "\n",
    "2. Add the missing Cayenne LPP header (under `/* TODO: Add the cayenne_lpp header */`):\n",
    "\n",
    "```c\n",
    "#include \"cayenne_lpp.h\"\n",
    "```\n",
    "\n",
    "3. Declare globally Cayenne LPP descriptor:\n",
    "\n",
    "```c\n",
    "static cayenne_lpp_t lpp;\n",
    "```\n",
    "\n",
    "4. In the sender function, prepare the cayenne lpp payload with the temperature and relative humidity values measured:\n",
    "\n",
    "```c\n",
    "cayenne_lpp_add_temperature(&lpp, 0, (float)temperature / 10);\n",
    "cayenne_lpp_add_relative_humidity(&lpp, 1, (float)humidity / 10);\n",
    "```\n",
    "\n",
    "5. You have to replace the send of the dummy payload with the send of the cayenne lpp payload, e.g:\n",
    "\n",
    "```c\n",
    "uint8_t ret = semtech_loramac_send(&loramac, lpp.buffer, lpp.cursor);\n",
    "```\n",
    "\n",
    "instead of\n",
    "\n",
    "```c\n",
    "uint8_t ret = semtech_loramac_send(&loramac, (uint8_t *)message, strlen(message));\n",
    "```\n",
    "\n",
    "6. At the end of the while loop, you have to clear the cayenne lpp payload buffer between each send:\n",
    "\n",
    "```c\n",
    "cayenne_lpp_reset(&lpp);\n",
    "```\n",
    "\n",
    "7. You can now build the application:\n"
   ]
  },
  {
   "cell_type": "code",
   "execution_count": null,
   "metadata": {},
   "outputs": [],
   "source": [
    "!make"
   ]
  },
  {
   "cell_type": "markdown",
   "metadata": {},
   "source": [
    "### Experiment on IoT-LAB\n",
    "\n",
    "1. Submit an experiment on IoT-LAB"
   ]
  },
  {
   "cell_type": "code",
   "execution_count": null,
   "metadata": {},
   "outputs": [],
   "source": [
    "!iotlab-experiment submit -n \"ttn-cayenne-lpp\" -d 120 -l 1,archi=st-lrwan1:sx1276+site=saclay"
   ]
  },
  {
   "cell_type": "markdown",
   "metadata": {},
   "source": [
    "2. Wait for the experiment to be in the \"Running\" state:"
   ]
  },
  {
   "cell_type": "code",
   "execution_count": null,
   "metadata": {},
   "outputs": [],
   "source": [
    "!iotlab-experiment wait --timeout 30 --cancel-on-timeout"
   ]
  },
  {
   "cell_type": "markdown",
   "metadata": {},
   "source": [
    "**Note:** If the command above returns the message `Timeout reached, cancelling experiment <exp_id>`, try to re-submit your experiment later.\n",
    "\n",
    "3. Open a separate terminal in the menu`File > New > Terminal` and open a terminal on your LoRa device:"
   ]
  },
  {
   "cell_type": "raw",
   "metadata": {},
   "source": [
    "make IOTLAB_NODE=auto -C riot/lorawan/ttn-cayenne-lpp term"
   ]
  },
  {
   "cell_type": "markdown",
   "metadata": {},
   "source": [
    "4. Finally flash your new application on the LoRa device:"
   ]
  },
  {
   "cell_type": "code",
   "execution_count": null,
   "metadata": {},
   "outputs": [],
   "source": [
    "!make IOTLAB_NODE=auto reset"
   ]
  },
  {
   "cell_type": "markdown",
   "metadata": {},
   "source": [
    "In the terminal, you should see you device join the network with success and start sending payload to TTN.\n",
    "\n",
    "In your TTN console, click the \"Live data\" tab of your devices where you should see the activation procedure and the uplink messages coming.\n",
    "\n",
    "### Configure Cayenne LPP uplink payload format on TTN\n",
    "\n",
    "1. In the device management console, select the \"Uplink\" option of the \"Payload formatter\" on the left:\n",
    "\n",
    "<figure style=\"text-align:center\">\n",
    "    <img src=\"images/ttn_uplink_payload_formatter.png\" width=\"250\" align=\"center\"/><br/><br/>\n",
    "    <figcaption><em>Uplink payload formatter</em></figcaption>\n",
    "</figure>\n",
    "\n",
    "2. Select \"Cayenne LPP\" in the list of available payload formatter:\n",
    "\n",
    "<figure style=\"text-align:center\">\n",
    "    <img src=\"images/cayenne_lpp_payload_formatter.png\" width=\"250\" align=\"center\"/><br/><br/>\n",
    "    <figcaption><em>Cayenne LPP payload formatter</em></figcaption>\n",
    "</figure>\n",
    "\n",
    "### Write a Python script to receive the data over MQTT\n",
    "\n",
    "Let's now write a Python script that will connect the TTN MQTT broker and subscribe to all uplink messages sent by our RIOT application. We'll use the [paho-mqtt](https://pypi.org/project/paho-mqtt/) Python package.\n",
    "\n",
    "1. First, let's define the MQTT parameters required for TTN:"
   ]
  },
  {
   "cell_type": "code",
   "execution_count": null,
   "metadata": {},
   "outputs": [],
   "source": [
    "TTN_MQTT_USERNAME = \"Your AppId@ttn\"  # Edit this line\n",
    "TTN_MQTT_PASSWORD = \"Your App API key\" # Edit this line\n",
    "TTN_MQTT_HOST = \"eu1.cloud.thethings.network\"\n",
    "TTN_MQTT_PORT = 8883\n",
    "TTN_MQTT_TOPIC = 'v3/+/devices/+/up'"
   ]
  },
  {
   "cell_type": "markdown",
   "metadata": {},
   "source": [
    "2. For security reasons, we'll use TLS authentication to connect to TTN MQTT broker. Let's download a valid CA certificate:!wget https://letsencrypt.org/certs/isrgrootx1.pem"
   ]
  },
  {
   "cell_type": "code",
   "execution_count": null,
   "metadata": {},
   "outputs": [],
   "source": [
    "!wget https://letsencrypt.org/certs/isrgrootx1.pem"
   ]
  },
  {
   "cell_type": "markdown",
   "metadata": {},
   "source": [
    "3. Import paho-mqtt, create necessary callbacks and connect to the TTN broker. The MQTT message should now appear"
   ]
  },
  {
   "cell_type": "code",
   "execution_count": null,
   "metadata": {},
   "outputs": [],
   "source": [
    "import paho.mqtt.client as mqtt\n",
    "\n",
    "\n",
    "def on_ttn_message(client, userdata, msg):\n",
    "    \"\"\"Callback triggered for each message received from the server.\"\"\"\n",
    "    print(\"Message received on topic: {}\".format(msg.topic))\n",
    "    print(msg.payload)\n",
    "\n",
    "\n",
    "def on_ttn_connect(client, userdata, flags, rc):\n",
    "    \"\"\"Callback triggered after the connection to the broker.\"\"\"\n",
    "    print('Connected to TTN broker, waiting for incoming messages')\n",
    "\n",
    "    # Now that we are connected, we can subscribe to the device uplink topic.\n",
    "    client.subscribe(TTN_MQTT_TOPIC)\n",
    "\n",
    "\n",
    "def start_ttn(on_message_callback):\n",
    "    \"\"\"Create the client and connect it to the broker.\"\"\"\n",
    "    client = mqtt.Client()\n",
    "    client.on_connect = on_ttn_connect\n",
    "    client.on_message = on_message_callback\n",
    "    client.tls_set(\"isrgrootx1.pem\")\n",
    "    client.username_pw_set(TTN_MQTT_USERNAME, TTN_MQTT_PASSWORD)\n",
    "    client.connect(TTN_MQTT_HOST, TTN_MQTT_PORT, 60)\n",
    "    return client\n",
    "\n",
    "\n",
    "def run_client(on_message_callback):\n",
    "    \"\"\"Run the MQTT client in a an endless loop.\"\"\"\n",
    "    try:\n",
    "        ttn_client = start_ttn(on_message_callback)\n",
    "        ttn_client.loop_forever()\n",
    "    except KeyboardInterrupt:\n",
    "        print(\"Exiting\")\n",
    "    \n",
    "run_client(on_ttn_message)"
   ]
  },
  {
   "cell_type": "markdown",
   "metadata": {},
   "source": [
    "At this point, after a few time, you should see messages sent by the device poping up above. Click the ◼ button to stop the Python script above. This will stop the MQTT client."
   ]
  },
  {
   "cell_type": "markdown",
   "metadata": {},
   "source": [
    "4. Write the function to parse the incoming payload and extract the temperature and relative humidity measures. Adapt the TTN \"on message\" callback."
   ]
  },
  {
   "cell_type": "code",
   "execution_count": null,
   "metadata": {},
   "outputs": [],
   "source": [
    "import json\n",
    "\n",
    "def parse_payload(payload):\n",
    "    payload_json = json.loads(payload)\n",
    "    measures = payload_json[\"uplink_message\"][\"decoded_payload\"]\n",
    "    temperature = measures[\"temperature_0\"]\n",
    "    relative_humidity = measures[\"relative_humidity_1\"]\n",
    "    return temperature, relative_humidity\n",
    "    \n",
    "\n",
    "def on_ttn_message_parse(client, userdata, msg):\n",
    "    print(\"Message received on topic: {}\".format(msg.topic))\n",
    "    temperature, relative_humidity = parse_payload(msg.payload)\n",
    "    print(f\"Temperature: {temperature}°C, Relative humidity: {relative_humidity}%\")"
   ]
  },
  {
   "cell_type": "markdown",
   "metadata": {},
   "source": [
    "5. Run the MQTT client:"
   ]
  },
  {
   "cell_type": "code",
   "execution_count": null,
   "metadata": {},
   "outputs": [],
   "source": [
    "run_client(on_ttn_message_parse)"
   ]
  },
  {
   "cell_type": "markdown",
   "metadata": {},
   "source": [
    "Click the ◼ button to stop the MQTT client.\n",
    "\n",
    "### Display the data received\n",
    "\n",
    "To do this, you will use [matplotlib](https://matplotlib.org/stable/) a well known Python library used to display data.\n",
    "\n",
    "1. First, create a figure with 2 subplots, one for the temperature measures and one for the relative humidity measures:"
   ]
  },
  {
   "cell_type": "code",
   "execution_count": null,
   "metadata": {},
   "outputs": [],
   "source": [
    "import matplotlib.pyplot as plt\n",
    "import numpy as np\n",
    "import time\n",
    "\n",
    "DATA_HISTORY = 50\n",
    "\n",
    "# Prefill the displayed data with zeros\n",
    "temperature_list = [0] * DATA_HISTORY\n",
    "relative_humidity_list = [0] * DATA_HISTORY\n",
    "\n",
    "%matplotlib widget\n",
    "\n",
    "# Create the figure with 2 subplots\n",
    "fig, axs = plt.subplots(2)\n",
    "\n",
    "ax_temperature = axs[0]\n",
    "ax_relative_humidity = axs[1]\n",
    "\n",
    "# Configure the temperature subplot\n",
    "ax_temperature.set_xlim([0, DATA_HISTORY - 1])\n",
    "ax_temperature.set_ylim([-15, 50])\n",
    "ax_temperature.set_title(\"Temperature (°C)\")\n",
    "ax_temperature.yaxis.set_label_position(\"right\")\n",
    "ax_temperature.yaxis.tick_right()\n",
    "# plot the zero initialized temperatures\n",
    "temperature_line, = ax_temperature.plot(temperature_list)\n",
    "\n",
    "# Configure the relative humidity subplot\n",
    "ax_relative_humidity.set_title(\"Relative humidity (%)\")\n",
    "ax_relative_humidity.set_xlim([0, DATA_HISTORY - 1])\n",
    "ax_relative_humidity.set_ylim([0, 100])\n",
    "ax_relative_humidity.yaxis.set_label_position(\"right\")\n",
    "ax_relative_humidity.yaxis.tick_right()\n",
    "# plot the zero initialized relative humidity, in red\n",
    "relative_humidity_line, = ax_relative_humidity.plot(relative_humidity_list, \"r-\")\n",
    "\n",
    "# Make the plots nice\n",
    "fig.tight_layout()"
   ]
  },
  {
   "cell_type": "markdown",
   "metadata": {},
   "source": [
    "2. Write a new \"on message\" callbabk function that appends the incoming data to the corresponding list, set them to the plots and refresh the plots:"
   ]
  },
  {
   "cell_type": "code",
   "execution_count": null,
   "metadata": {},
   "outputs": [],
   "source": [
    "def on_ttn_message_plot(client, userdata, msg):\n",
    "    \"\"\"Parse the received data and them to the plot.\"\"\"\n",
    "    print(\"Message received on topic: {}\".format(msg.topic))\n",
    "    # Parse the TTN payload\n",
    "    temperature, relative_humidity = parse_payload(msg.payload)\n",
    "    print(f\"Temperature: {temperature}°C, Relative humidity: {relative_humidity}%\")\n",
    "    # Add data the global measures lists\n",
    "    temperature_list.append(temperature)\n",
    "    relative_humidity_list.append(relative_humidity)\n",
    "    # Set the data to the corresponding lines\n",
    "    temperature_line.set_ydata(temperature_list[-DATA_HISTORY:])\n",
    "    relative_humidity_line.set_ydata(relative_humidity_list[-DATA_HISTORY:])\n",
    "    # Refresh the drawing\n",
    "    fig.canvas.draw() \n",
    "\n",
    "\n",
    "# Run the client endlessly (press the ◼ button to stop the MQTT client)\n",
    "run_client(on_ttn_message_plot)"
   ]
  },
  {
   "cell_type": "markdown",
   "metadata": {},
   "source": [
    "### Going further\n",
    "\n",
    "Modify the RIOT application to add the `lps22hb` atmospheric pressure sensor values to the Cayenne LPP payload:\n",
    "- You can have a look at the [online documentation of the driver](http://doc.riot-os.org/group__drivers__lpsxxx.html)\n",
    "- You can have a look at the [test application code](https://github.com/RIOT-OS/RIOT/tree/master/tests/driver_lpsxxx) which provides driver API usage\n",
    "- Note that the module is called `lps22hb`"
   ]
  },
  {
   "cell_type": "markdown",
   "metadata": {},
   "source": [
    "### Free up the resources\n",
    "\n",
    "Since you finished the training, stop your experiment to free up the experiment nodes:"
   ]
  },
  {
   "cell_type": "code",
   "execution_count": null,
   "metadata": {},
   "outputs": [],
   "source": [
    "!iotlab-experiment stop"
   ]
  },
  {
   "cell_type": "markdown",
   "metadata": {},
   "source": [
    "The serial link connection through SSH will be closed automatically."
   ]
  }
 ],
 "metadata": {
  "kernelspec": {
   "display_name": "Python 3 (ipykernel)",
   "language": "python",
   "name": "python3"
  },
  "language_info": {
   "codemirror_mode": {
    "name": "ipython",
    "version": 3
   },
   "file_extension": ".py",
   "mimetype": "text/x-python",
   "name": "python",
   "nbconvert_exporter": "python",
   "pygments_lexer": "ipython3",
   "version": "3.9.7"
  }
 },
 "nbformat": 4,
 "nbformat_minor": 4
}
