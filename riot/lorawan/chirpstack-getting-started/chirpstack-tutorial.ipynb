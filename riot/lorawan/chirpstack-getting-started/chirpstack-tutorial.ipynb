{
 "cells": [
  {
   "cell_type": "markdown",
   "id": "0570d635",
   "metadata": {},
   "source": [
    "# Configure a ChirpStack application\n",
    "\n",
    "Before using the LoRa devices in IoT-LAB, you have to create an account and register an application with a device configured on ChirpStack.\n",
    "\n",
    "1. You can access the ChirpStack application with the same IoT-LAB credentials [here](https://lns4.iot-lab.info/#/login)\n",
    "\n",
    "<figure style=\"text-align:center\">\n",
    "    <img src=\"images/chirpstack-iotlab-signup.png\" width=\"480\" align=\"center\"/><br/><br/>\n",
    "    <figcaption><em>ChirpStack IoT-LAB signup interface</em></figcaption>\n",
    "</figure>"
   ]
  },
  {
   "cell_type": "markdown",
   "id": "41e38579",
   "metadata": {},
   "source": [
    "# Device profile\n",
    "\n",
    "A Device profile is a blueprint that tells ChirpStack what kind of device you're working with, how it communicates, and how the server should interpret and manage its data.\n",
    "\n",
    "Device profile parameters:\n",
    "\n",
    "- Communication parameters: Sets MAC version, frequencies, RX windows;\n",
    "- Class behavior: Configures Class A/B/C support;\n",
    "- Payload decoding/encoding logic;\n",
    "- Device's registration: Manages join parameters (OTAA or ABP) and timing.\n",
    "\n",
    "Follow the Device profile configuration in the next step-by-step video:"
   ]
  },
  {
   "cell_type": "code",
   "execution_count": null,
   "id": "7c7c88cb",
   "metadata": {
    "vscode": {
     "languageId": "plaintext"
    }
   },
   "outputs": [],
   "source": [
    "from IPython.display import Video\n",
    "Video(\"images/Video1-0.5x.mp4\", embed=True, width=500)"
   ]
  },
  {
   "cell_type": "markdown",
   "id": "f8ee3d63",
   "metadata": {},
   "source": [
    "# Application\n",
    "\n",
    "Each end-device of a LoRaWAN network is part of a LoRaWAN application. You have to configure a first application to allow you to communicate with your device over LoRa.\n",
    "\n",
    "An Application is the logical grouping of devices and their data streams. It plays a key organizational and functional role in how data flows from devices to your integrations.\n",
    "\n",
    "Application deals with:\n",
    "\n",
    "- Grouping devices logically by device profiles;\n",
    "- Controling data routing via integrations per application;\n",
    "- Payload Decoding and Transformation and formats;\n",
    "- Security and API tokens.\n",
    "\n",
    "Once you have create a **Device profile** and an **Application**, it is possible to register a **Device**. Keep the default Other-The-Air Activation (OTAA) procedure.The OTAA activation requires these parameters:\n",
    "   - **LoRaWAN version**: choose **MAC V1.0.3**\n",
    "   - **Frequency plan**: Choose Europe 863-870 MHz (SF9 for RX2 - recommended)\n",
    "   - **Device EUI**: the device unique identifier is a 8 bytes array (16 hex char string). Generate a random one using the web interface.\n",
    "   - **Join EUI**: the application unique identifier is a 8 bytes array (16 hex char string). Fill it with zeros or generate a random one.\n",
    "\n",
    "After you submit the configuration, you can generate AppKey:\n",
    "   - **Application Key**: the application key is a 16 bytes array (32 hex char string). Generate a random one using the web interface.\n",
    "\n",
    "Follow the Application configuration in the next step-by-step video:"
   ]
  },
  {
   "cell_type": "code",
   "execution_count": null,
   "id": "2a7b0f1a",
   "metadata": {
    "vscode": {
     "languageId": "plaintext"
    }
   },
   "outputs": [],
   "source": [
    "Video(\"images/Video2-0.5x.mp4\", embed=True, width=500)"
   ]
  },
  {
   "cell_type": "markdown",
   "id": "f8ca548f",
   "metadata": {},
   "source": [
    "Finally, you will have a device link to a device profile/application and you will see the Dashboard available for this device, as shown in the next video."
   ]
  },
  {
   "cell_type": "code",
   "execution_count": null,
   "id": "01b8bf44",
   "metadata": {
    "vscode": {
     "languageId": "plaintext"
    }
   },
   "outputs": [],
   "source": [
    "Video(\"images/Video3-0.5x.mp4\", embed=True, width=500)"
   ]
  }
 ],
 "metadata": {
  "language_info": {
   "name": "python"
  }
 },
 "nbformat": 4,
 "nbformat_minor": 5
}
