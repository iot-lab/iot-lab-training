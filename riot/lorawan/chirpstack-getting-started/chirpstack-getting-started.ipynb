{
 "cells": [
  {
   "cell_type": "markdown",
   "id": "69fd688f-72b2-4b30-b5c2-fa6349130475",
   "metadata": {},
   "source": [
    "## Getting started with LoRaWAN on IoT-LAB using RIOT\n",
    "\n",
    "The goal of this notebook is to discover the basics of LoRaWAN communication using RIOT on IoT-LAB and the ChirpStack LoRaWAN Network Server.\n",
    "\n",
    "> We recommend that you follow the [LoRa boards](../lora-boards/lora-boards.ipynb) notebook if not done already.\n",
    "\n",
    "This Notebook is divided in several steps:\n",
    "1. The first step requires you to configure a LoRaWAN application with one device on the Chirpstack backend\n",
    "2. Then you will submit an experiment with one ST B-L072Z-LRWAN1 node (known as st-lrwan1) on the Saclay site\n",
    "3. Once the experiment is running, you will build and flash a RIOT application that provides a shell to control the LoRaWAN stack. On the board, you will configure the identifiers and keys required for Over-The-Air Activation (OTAA).\n",
    "4. In the last step of this tutorial, you will exchange messages between the board and the Chirpstack Network server.\n",
    "\n",
    "### LoRaWAN overview\n",
    "\n",
    "A LoRaWAN network includes a set of subsystems and protocols allowing _end-devices_ to communicate on long distances while consuming little energy.\n",
    "\n",
    "To communicate by radio, LoRaWAN devices and gateways use the LoRa radio technology. This technology is based on a Chirp Spreading Spectrum frequency modulation within public radio frequency bands (ISM). The access to the physical layer is regulated and depends on the region of use.\n",
    "\n",
    "For example, LoRaWAN defines the notion of \"datarate\". A datarate index is the combination of a spreading factor (SF) and a bandwidth (BW), as shown in the table below:\n",
    "\n",
    "<figure style=\"text-align:center\">\n",
    "    <img src=\"images/lorawan-datarate-table.png\" width=\"650\" align=\"center\"/><br/><br/>\n",
    "    <figcaption><em>LoRaWAN Datarate table for EU868 band</em></figcaption>\n",
    "</figure>\n",
    "\n",
    "A datarate of 0 uses a spreading factor of 12 and a bandwidth of 125kHz, in this case the transmission is the slowest (250 bit/s). A datarate of 6 uses a spreading factor of 7 and a bandwidth of 250kHz, the transmission is the fastest in this case (11kbit/s).\n",
    "\n",
    "You can find more information on LoRaWAN [here](https://fr.wikipedia.org/wiki/LoRaWAN) and [here](https://docs.wixstatic.com/ugd/eccc1a_20fe760334f84a9788c5b11820281bd0.pdf):\n",
    "\n",
    "On IoT-LAB, the EU868 ISM band is used by the boards, because they are all located in Europe and the boards can only transmit on this band.\n",
    "\n",
    "<figure style=\"text-align:center\">\n",
    "    <img src=\"images/lorawan-classes.jpg\" width=\"640\" align=\"center\"/><br/><br/>\n",
    "    <figcaption><em>The LoRaWAN stack</em></figcaption>\n",
    "</figure>\n",
    "\n",
    "The LoRaWAN specifications define 3 classes of end-devices: A, B, C. Each of which has specific access to the physical layer. For more details, please refer to the LoRa specifications provided by the LoRa Alliance [here](https://www.lora-alliance.org/lorawan-for-developers).\n",
    "\n",
    "Here is a global overview of a LoRaWAN network:\n",
    "\n",
    "<figure style=\"text-align:center\">\n",
    "    <img src=\"images/lorawan-system.png\" width=\"640\" align=\"center\"/><br/><br/>\n",
    "    <figcaption><em>The LoRaWAN infrastructure</em></figcaption>\n",
    "</figure>\n",
    "\n",
    "End devices use LoRa modulation to communicate with the gateways, which themselves use the regular Internet protocols to communicate with the LoRaWAN server, owned by a provider.\n",
    "\n",
    "### ChirpStack overview\n",
    "\n",
    "ChirpStack is an open-source LoRaWAN network which can be used to setup private or public LoRaWAN networks\n",
    "\n",
    "<figure style=\"text-align:center\">\n",
    "    <img src=\"images/chirpstack-functional-architecture.png\" width=\"800\" align=\"center\"/><br/><br/>\n",
    "    <figcaption><em>ChirpStack functional architecture</em></figcaption>\n",
    "</figure>\n",
    "\n",
    "- ChirpStack provides a web-interface for the management of gateways, devices and tenants oriented towards open access to IoT networks\n",
    "- ChirpStack server is free of charge, without restriction\n",
    "- Interaction with other external applications for handling device data (cloud providers, databases)\n",
    "\n",
    "A ChirpStack lite gateway is installed in the IoT-LAB Saclay site and connected to the ChirpStack server. Thus, this allows LoRa devices deployed in the Saclay site to communicate with the ChirpStack backend.\n",
    "\n",
    "### Configure a ChirpStack application\n",
    "\n",
    "Before using the LoRa devices in IoT-LAB, you have to create an account and register an application with a device configured on ChirpStack.\n",
    "\n",
    "1. You can access the ChirpStack application with the same IoT-LAB credentials [here](https://services.iot-lab.info/#/login)\n",
    "\n",
    "\n",
    "<figure style=\"text-align:center\">\n",
    "    <img src=\"images/chirpstack-iotlab-signup.png\" width=\"480\" align=\"center\"/><br/><br/>\n",
    "    <figcaption><em>ChirpStack IoT-LAB signup interface</em></figcaption>\n",
    "</figure>\n",
    "\n",
    "2. Add an application to your ChirpStack account by following [the official documentation](https://www.thethingsindustries.com/docs/integrations/adding-applications/).\n",
    "\n",
    "Each end-device of a LoRaWAN network is part of a LoRaWAN application. You have to configure a first application to allow you to communicate with your device over LoRa.\n",
    "\n",
    "3. Register a device in your Chirpstack application by following [this documentation](https://127.0.0.1).\n",
    "   In the application console use the **Add end device button** and register it **manually**. Keep the default Other-The-Air Activation (OTAA) procedure.The OTAA activation requires these parameters:\n",
    "   - **LoRaWAN version**: choose **MAC V1.0.3**\n",
    "   - **Frequency plan**: Choose Europe 863-870 MHz (SF9 for RX2 - recommended)\n",
    "   - **Device EUI**: the device unique identifier is a 8 bytes array (16 hex char string). Generate a random one using the web interface.\n",
    "   - **Application EUI**: the application unique identifier is a 8 bytes array (16 hex char string). Fill it with zeros.\n",
    "   - **Application Key**: the application key is a 16 bytes array (32 hex char string). Generate a random one using the web interface."
   ]
  },
  {
   "cell_type": "markdown",
   "id": "76f539ba-9fa2-4e19-b748-17eb63c84435",
   "metadata": {},
   "source": [
    "> **Important:** In the following instructions of this tutorial, we consider that your application name is **_iotlab-lorawan_** and your node id is **_iotlab-node_**. \n",
    ">\n",
    "> **Replace these names with the information you configured in your own ChirpStack account and application**.\n",
    "\n",
    "### Start an experiment with one LoRa device\n",
    "\n",
    "Now let's book one the LoRa device available in the IoT-LAB testbed. The boards are [ST B-L072Z-LRWAN1](https://www.st.com/en/evaluation-tools/b-l072z-lrwan1.html):\n",
    "\n",
    "<figure style=\"text-align:center\">\n",
    "    <img src=\"images/en.b-l072z-lrwan1.jpg\" width=\"320\" align=\"center\"/><br/><br/>\n",
    "    <figcaption><em>The ST B-L072Z-LRWAN1 board used in IoT-LAB</em></figcaption>\n",
    "</figure>\n",
    "\n",
    "1. Submit an experiment with one LoRa device on IoT-LAB:"
   ]
  },
  {
   "cell_type": "code",
   "execution_count": null,
   "id": "f8366a9e-ed98-4449-81be-dec065f20fd9",
   "metadata": {},
   "outputs": [],
   "source": [
    "!iotlab-experiment submit -n \"chirpstack-getting-started\" -d 120 -l 1,archi=st-lrwan1:sx1276+site=saclay"
   ]
  },
  {
   "cell_type": "markdown",
   "id": "660f5c45-8aec-4ee9-b057-0adc260b4227",
   "metadata": {},
   "source": [
    "2. Wait for the experiment to be in the \"Running\" state:"
   ]
  },
  {
   "cell_type": "code",
   "execution_count": null,
   "id": "43db909a-a978-4a69-9611-64e6c8f7d2ab",
   "metadata": {},
   "outputs": [],
   "source": [
    "!iotlab-experiment wait --timeout 30 --cancel-on-timeout"
   ]
  },
  {
   "cell_type": "markdown",
   "id": "87163f73-33a6-4b22-8f67-c4edc70449b0",
   "metadata": {},
   "source": [
    "> **Note:** If the command above returns the message `Timeout reached, cancelling experiment <exp_id>`, try to re-submit your experiment later.\n",
    "\n",
    "### Build and flash the RIOT firmware\n",
    "\n",
    "To use the ST board with the ChirpStack LoRaWAN network, you must first flash the RIOT LoRaWAN test application, `tests/pkg_semtech-loramac`:\n",
    "\n",
    "1. Build and flash the `tests/pkg_semtech-loramac` application of RIOT.\n",
    "\n",
    "This application provides a shell to finely control the loramac stack on the device. By default, the target of the application corresponds to the [st-lrwan1 board](https://www.iot-lab.info/docs/boards/st-b-l072z-lrwan1/) in IoT-LAB."
   ]
  },
  {
   "cell_type": "code",
   "execution_count": null,
   "id": "dc3c7447-d644-4bc4-aa7a-d3e02eb122d3",
   "metadata": {},
   "outputs": [],
   "source": [
    "!make IOTLAB_NODE=auto -C ../../RIOT/tests/pkg_semtech-loramac flash"
   ]
  },
  {
   "cell_type": "markdown",
   "id": "c5d30c40-87df-4c0e-b0db-03ffc7a0a6c5",
   "metadata": {},
   "source": [
    "To communicate in LoRaWAN, this application relies on a library (a \"package\") developed by Semtech and [available on GitHub](https://github.com/Lora-net/LoRaMac-node). As of today, this library is the reference implementation of the MAC layer of the LoRaWAN protocol for end-devices.\n",
    "\n",
    "2. Open a terminal: `File > New > Terminal` and connect to the shell by running the following command in the terminal:"
   ]
  },
  {
   "cell_type": "raw",
   "id": "d19cadbc-da65-416e-aeb5-4bba5ed8635e",
   "metadata": {},
   "source": [
    "make IOTLAB_NODE=auto -C riot/RIOT/tests/pkg_semtech-loramac term"
   ]
  },
  {
   "cell_type": "markdown",
   "id": "e6eb046f-066b-4775-a0cf-e4154316f250",
   "metadata": {},
   "source": [
    "You can press *Enter* to get the `>` prompt.\n",
    "\n",
    "You are now ready for configuring your LoRaWAN device!\n",
    "\n",
    "### Configure the LoRaWAN device\n",
    "\n",
    "Before going through the next actions, open your [ChirpStack console](https://services.iot-lab.info/#/) in a browser and go to your device **Overview** page. This page contains the information required to configure your device in the next steps.\n",
    "\n",
    "The RIOT shell provides the `loramac` command to control the loramac stack, join the network, and send packets:"
   ]
  },
  {
   "cell_type": "raw",
   "id": "6eceeaa1-ebb0-417e-ad81-5c9712d4e555",
   "metadata": {},
   "source": [
    "> loramac\n",
    "loramac\n",
    "Usage: loramac <get|set|join|tx|link_check|save|erase>"
   ]
  },
  {
   "cell_type": "markdown",
   "id": "339146e6-ce31-4cbb-af5d-2a2690418762",
   "metadata": {},
   "source": [
    "1. In the RIOT shell, let's start by configuring the loramac stack with your DEVEUI, APPEUI and APPKEY (use the information of the device Overview tab and the copy to clipboard button to make things simpler):"
   ]
  },
  {
   "cell_type": "raw",
   "id": "49575ae5-9fcb-408e-a532-0fef0a40318f",
   "metadata": {},
   "source": [
    "> loramac set appeui 00000000000000\n",
    "> loramac set deveui 00000000000000\n",
    "> loramac set appkey 0000000000000000000000000000"
   ]
  },
  {
   "cell_type": "markdown",
   "id": "12625683-950c-43c8-bd63-4532a8210399",
   "metadata": {},
   "source": [
    " >**note:** Use the values of your registered device from the TheThingsStack backend.\n",
    "\n",
    "2. Configure a fast datarate, e.g. 5, corresponding to a bandwidth of 125kHz and a spreading factor of 7, since the nodes are very close to the gateway:"
   ]
  },
  {
   "cell_type": "raw",
   "id": "288c95ec-98c4-433a-b59c-3f0f6c75eb8e",
   "metadata": {},
   "source": [
    "> loramac set dr 5"
   ]
  },
  {
   "cell_type": "markdown",
   "id": "8386ce3c-7221-4f11-b4d0-c36c15268167",
   "metadata": {},
   "source": [
    "3. Now that the device is correctly configured for OTAA activation, it is time to join it to the network:"
   ]
  },
  {
   "cell_type": "raw",
   "id": "57ec6f6a-9919-48ad-bb66-0e628a333aae",
   "metadata": {},
   "source": [
    "> loramac join otaa\n",
    "Join procedure succeeded!"
   ]
  },
  {
   "cell_type": "markdown",
   "id": "fcf5e165-6648-4a96-b73e-473f735a650d",
   "metadata": {},
   "source": [
    "> **Reminder:** The principle of OTAA activation is to use the identifiers of the device (Device EUI) and the application (Application EUI) with the application key to build a secure connection request.\n",
    "> Upon receipt of this connection request, the LoRaWAN server checks that the message is valid, using the Message Integrity Code (MIC), and it verifies the validity of the identifiers.\n",
    "> If the request is valid, the server responds with an acknowledgement message containing a \"nonce\" (an arbitrary number) that will be used by the server and by the device to determine the session keys (network and application) from the initial application key.\n",
    "\n",
    "On the ChirpStack web console, go to the **Data** tab of the `iotlab-node` page. You should see the activation message received by the ChirpStack backend (the item is clickable).\n",
    "\n",
    "4. Now use the `tx` subcommand with the `uncnf` option to send an unconfirmed payload (no ACK expected from the server) to the backend: "
   ]
  },
  {
   "cell_type": "raw",
   "id": "4a2ce12b-c88c-4156-8086-653428ff2293",
   "metadata": {},
   "source": [
    "> loramac tx HelloWorld! uncnf\n",
    "Message sent with success"
   ]
  },
  {
   "cell_type": "markdown",
   "id": "dec400b0-4710-4b56-8347-2f4080f6a86f",
   "metadata": {},
   "source": [
    "Still in the **Events** tab of the `iotlab-node` web page, you should see the message received by the ChirpStack LoRaWAN server:\n",
    "\n",
    "<figure style=\"text-align:center\">\n",
    "    <img src=\"images/chirpstack-tx-device.png\" width=\"1134\" align=\"center\"/><br/><br/>\n",
    "    <figcaption><em>Messages received on ChirpStack</em></figcaption>\n",
    "</figure>\n",
    "\n",
    "In the event output, payloads are encoded in hexadecimal values: one ascii byte => 2 hexadecimal characters and they are cropped so it's not possible to get the full content of the message this way:\n",
    "\n",
    "<figure style=\"text-align:center\">\n",
    "    <img src=\"images/chirpstack-uplink-message-item.png\" width=\"1134\" align=\"center\"/><br/><br/>\n",
    "    <figcaption><em>Uplink message received by the server</em></figcaption>\n",
    "</figure>\n",
    "\n",
    "If you click on the uplink message line, the event details appears on the right. Scroll in the `Details` area and check the `data` field. This field contains the message sent, encoded in **base64**:\n",
    "\n",
    "<figure style=\"text-align:center\">\n",
    "    <img src=\"images/chirpstack-uplink-event-details.png\" width=\"500\" align=\"center\"/><br/><br/>\n",
    "    <figcaption><em>Uplink message event details</em></figcaption>\n",
    "</figure>\n",
    "\n",
    "We can decode the content of the payload received by the server using the command `base64` as shown below:"
   ]
  },
  {
   "cell_type": "code",
   "execution_count": null,
   "id": "77bdbb85-eea7-4dbc-b12c-0b38a716dfe9",
   "metadata": {},
   "outputs": [],
   "source": [
    "!base64 -d <<< SGVsbG9Xb3JsZCE="
   ]
  },
  {
   "cell_type": "markdown",
   "id": "2ab94500-55e5-4a29-b3a0-c25f53a8b8b0",
   "metadata": {},
   "source": [
    "5. Send a downlink message from the **Messaging** tab of the `iotlab-node` device (for example use the following hexadecimal values: **48656C6C6F52494F5421**)\n",
    "\n",
    "> **Note**: If the downlink is forbidden with a message saying that the device is not activated, just refresh the page.\n",
    "\n",
    "> **Note**: Nothing is received by the node because a LoRaWAN class A device (the default for a RIOT LoRaWAN node) only have a short RX window after a send.\n",
    "\n",
    "In order to receive the downlink message, just send another message to ChirpStack: "
   ]
  },
  {
   "cell_type": "raw",
   "id": "9606a62d-cbea-488b-86fa-14dcaab4bc76",
   "metadata": {},
   "source": [
    "> loramac tx HelloWorld! uncnf\n",
    "Data received: HelloRIOT!, port: 1\n",
    "Message sent with success"
   ]
  },
  {
   "cell_type": "markdown",
   "id": "e510932b-1b33-4f70-b9d4-3d0f4bc2b538",
   "metadata": {},
   "source": [
    "You sent and received LoRaWAN messages using RIOT on IoT-LAB, congratulations !\n",
    "\n",
    "### Free up the resources\n",
    "\n",
    "Since you finished the training, stop your experiment to free up the experiment nodes:"
   ]
  },
  {
   "cell_type": "code",
   "execution_count": null,
   "id": "dfb2c0cb-a078-497d-a381-ea8abec4a023",
   "metadata": {},
   "outputs": [],
   "source": [
    "!iotlab-experiment stop"
   ]
  },
  {
   "cell_type": "markdown",
   "id": "898f9ec1-538f-4de8-8629-cdf1ca993add",
   "metadata": {},
   "source": [
    "The serial link connection through SSH will be closed automatically."
   ]
  }
 ],
 "metadata": {
  "kernelspec": {
   "display_name": "Python 3 (ipykernel)",
   "language": "python",
   "name": "python3"
  },
  "language_info": {
   "codemirror_mode": {
    "name": "ipython",
    "version": 3
   },
   "file_extension": ".py",
   "mimetype": "text/x-python",
   "name": "python",
   "nbconvert_exporter": "python",
   "pygments_lexer": "ipython3",
   "version": "3.9.7"
  }
 },
 "nbformat": 4,
 "nbformat_minor": 5
}
