{
 "cells": [
  {
   "cell_type": "markdown",
   "metadata": {},
   "source": [
    "## Scan BLE advertisement paquets\n",
    "\n",
    "In this exercise, you will use one [nRF52DK](https://www.iot-lab.info/docs/boards/nordic-nrf52dk/) to scan BLE advertisement paquets sent by 2 other nRF52DK boards.\n",
    "\n",
    "BLE support in RIOT is provided by the [external package Nimble](http://doc.riot-os.org/group__pkg__nimble.html) which is an adaption of [Apache Nimble](https://github.com/apache/mynewt-nimble) to RIOT and provides major BLE features.\n",
    "\n",
    "For exercise, we prepared RIOT applications and Python scripts that will allow you to:\n",
    "- build an application with shell command to start a BLE scan and to send BLE advertise paquets\n",
    "- retrieve the scan output and store it in a file on this Juputerlab server\n",
    "- plot several radio informations related to the caprtured BLE packets\n",
    "\n",
    "_Note:_ if no nRF52DK are available you can also try with [DWM1001](https://www.iot-lab.info/docs/boards/decawave-dwm1001/) or [nRF52840DK](https://www.iot-lab.info/docs/boards/nordic-nrf52840dk/) ."
   ]
  },
  {
   "cell_type": "markdown",
   "metadata": {},
   "source": [
    "### Launch an experiment\n",
    "\n",
    "1. Submit an experiment with 3 nrf52dk boards and during 60 minutes:"
   ]
  },
  {
   "cell_type": "code",
   "execution_count": null,
   "metadata": {},
   "outputs": [],
   "source": [
    "!iotlab-experiment submit -n \"riot-ble-scan\" -d 60 -l 3,archi=nrf52dk:ble+site=saclay"
   ]
  },
  {
   "cell_type": "markdown",
   "metadata": {},
   "source": [
    "2. Wait for the experiment to be in the Running state:"
   ]
  },
  {
   "cell_type": "code",
   "execution_count": null,
   "metadata": {},
   "outputs": [],
   "source": [
    "!iotlab-experiment wait --timeout 30 --cancel-on-timeout"
   ]
  },
  {
   "cell_type": "markdown",
   "metadata": {},
   "source": [
    "**Note:** If the command above returns the message `Timeout reached, cancelling experiment <exp_id>`, try to re-submit your experiment later or try on another site.\n",
    "\n",
    "3. Get the experiment nodes list:"
   ]
  },
  {
   "cell_type": "code",
   "execution_count": null,
   "metadata": {},
   "outputs": [],
   "source": [
    "!iotlab-experiment --jmespath=\"items[*].network_address | sort(@)\" get --nodes"
   ]
  },
  {
   "cell_type": "markdown",
   "metadata": {},
   "source": [
    "### Build the RIOT firmware"
   ]
  },
  {
   "cell_type": "code",
   "execution_count": null,
   "metadata": {},
   "outputs": [],
   "source": [
    "!make"
   ]
  },
  {
   "cell_type": "markdown",
   "metadata": {},
   "source": [
    "Now you can flash the fimrware on the 3 nodes of the experiment:"
   ]
  },
  {
   "cell_type": "code",
   "execution_count": null,
   "metadata": {},
   "outputs": [],
   "source": [
    "!iotlab-node --flash bin/nrf52dk/ble_scan_rss.bin"
   ]
  },
  {
   "cell_type": "markdown",
   "metadata": {},
   "source": [
    "### Play with the RIOT firmware\n",
    "\n",
    "Let's start by connecting to the first board that will be used later to scan the BLE advertisement paquets.\n",
    "\n",
    "1. Go to `File > New > Terminal` and open a serial terminal on the first board. In the command below, replace `<node>` with one of the nodes of your experiment, for example `<node name>-<id>.saclay.iot-lab.info`. Also note that it will output nothing by default, you have to enter commands (see the next steps)."
   ]
  },
  {
   "cell_type": "raw",
   "metadata": {},
   "source": [
    "TERMLOG=$(pwd)/riot/ble/ble_scan/scan_raw.log make IOTLAB_NODE=<node> -C riot/ble/ble_scan term"
   ]
  },
  {
   "cell_type": "markdown",
   "metadata": {},
   "source": [
    "_Note:_  in the command above, we use the `TERMLOG` variable with a file path. This is a RIOT build system trick that will dump all RIOT shell output to a log file. We will use this file later to parse the scanned BLE packets.\n",
    "\n",
    "2. In the RIOT shell opened by the previous commands, you can check the available commands:"
   ]
  },
  {
   "cell_type": "raw",
   "metadata": {},
   "source": [
    "> help\n",
    "help\n",
    "Command              Description\n",
    "---------------------------------------\n",
    "scan                 trigger a BLE scan\n",
    "autoadv              manages BLE advertisment"
   ]
  },
  {
   "cell_type": "markdown",
   "metadata": {},
   "source": [
    "Keep this terminal open, we will come back to it later to start the scan.\n",
    "\n",
    "3. Go to `File > New > Terminal` twice and open a serial terminal on the 2 remaining boards (repeat twice the following command, adapted with the board hostname):"
   ]
  },
  {
   "cell_type": "raw",
   "metadata": {},
   "source": [
    "make IOTLAB_NODE=<node> -C riot/ble/ble_scan term"
   ]
  },
  {
   "cell_type": "markdown",
   "metadata": {},
   "source": [
    "4. In each of these 2 RIOT shells, set the name of the board (`<node>-<id>`) and start the auto-advertisement:"
   ]
  },
  {
   "cell_type": "raw",
   "metadata": {},
   "source": [
    "> autoadv name <node>-<id>\n",
    "autoadv name <node>-<id>\n",
    "> autoadv name\n",
    "autoadv name\n",
    "Current name = <node>-<id>\n",
    "> autoadv start"
   ]
  },
  {
   "cell_type": "markdown",
   "metadata": {},
   "source": [
    "5. Now go back to the first RIOT shell and start 100 BLE scan of 100 milliseconds each, we also configure an output in json format that we can parse later:"
   ]
  },
  {
   "cell_type": "raw",
   "metadata": {},
   "source": [
    "> scan\n",
    "> scan\n",
    "scan\n",
    "usage: scan <output_type> <scan_timeout> <scan_cycles>\n",
    " - output_type: json or txt for log output\n",
    " - scan_timeout: scan timeout in milliseconds\n",
    " - scan_cycles: the number of scan cycles\n",
    "    \n",
    "> scan json 100 100\n",
    "{\"nodes\": [{\"addr\":[\"CC\",\"3E\",\"19\",\"71\",\"63\",\"70\"],\"addr_type\":1,\"name\":\"nrf52dk-2\",\"adv_type\":0,\"ad_data\":[\"02\",\"01\",\"06\",\"0A\",\"08\",\"64\",\"77\",\"6D\",\"31\",\"30\",\"30\",\"31\",\"2D\",\"32\",\"02\",\"0A\",\"00\"],\"last_rssi\":-53,\"txpwr_dbm\":0,\"adv_msg_cnt\":826,\"first_update\":1115111832,\"last_update\":1145030423}, {\"addr\":[\"DB\",\"DD\",\"06\",\"5A\",\"89\",\"E8\"],\"addr_type\":1,\"name\":\"dwm1001-3\",\"adv_type\":0,\"ad_data\":[\"02\",\"01\",\"06\",\"0A\",\"08\",\"64\",\"77\",\"6D\",\"31\",\"30\",\"30\",\"31\",\"2D\",\"33\",\"02\",\"0A\",\"00\"],\"last_rssi\":-64,\"txpwr_dbm\":0,\"adv_msg_cnt\":852,\"first_update\":1115096137,\"last_update\":1144961615}]}\n",
    "..."
   ]
  },
  {
   "cell_type": "markdown",
   "metadata": {},
   "source": [
    "### Free up the resources\n",
    "\n",
    "You are done with the node, so stop your experiment to free up the devices:"
   ]
  },
  {
   "cell_type": "code",
   "execution_count": null,
   "metadata": {},
   "outputs": [],
   "source": [
    "!iotlab-experiment stop"
   ]
  },
  {
   "cell_type": "markdown",
   "metadata": {},
   "source": [
    "### Process the log file\n",
    "\n",
    "If everything went well, you should have a [scan_raw.log](scan_raw.log) file in the same directory as this notebook."
   ]
  },
  {
   "cell_type": "code",
   "execution_count": null,
   "metadata": {},
   "outputs": [],
   "source": [
    "!head -n 10 scan_raw.log"
   ]
  },
  {
   "cell_type": "markdown",
   "metadata": {},
   "source": [
    "As you can see, this file contains all the output catched by the scanning node, including the shell input commands. Let's cleanup this with the following Python code:"
   ]
  },
  {
   "cell_type": "code",
   "execution_count": null,
   "metadata": {},
   "outputs": [],
   "source": [
    "import json\n",
    "\n",
    "# Clean non unicode characters\n",
    "content = \"\"\n",
    "with open(\"scan_raw.log\", \"rb\") as f_raw:\n",
    "    while 1:\n",
    "        byte = f_raw.read(1)\n",
    "        try:\n",
    "            content += byte.decode()\n",
    "        except UnicodeDecodeError:\n",
    "            continue\n",
    "        if not byte:\n",
    "            break\n",
    "\n",
    "# Remove non json content\n",
    "output = []\n",
    "for line in content.split(\"\\n\"):\n",
    "    try:\n",
    "        json.loads(line)\n",
    "    except json.JSONDecodeError:\n",
    "        continue\n",
    "    else:\n",
    "        output.append(line)\n",
    "\n",
    "# Write to new log file\n",
    "with open(\"scan_clean.log\", \"w\") as f_clean:\n",
    "    f_clean.write(\"\".join(output))"
   ]
  },
  {
   "cell_type": "markdown",
   "metadata": {},
   "source": [
    "The new [scan_clean.log](scan_clean.log) file only contains json lines with the BLE advertisement packets:"
   ]
  },
  {
   "cell_type": "code",
   "execution_count": null,
   "metadata": {},
   "outputs": [],
   "source": [
    "!head -n 10 scan_clean.log"
   ]
  },
  {
   "cell_type": "markdown",
   "metadata": {},
   "source": [
    "Let's now parse the content of [scan_clean.log](scan_clean.log). The cell below will create a dictionnary with device names as keys and the list of rssi measured as values:"
   ]
  },
  {
   "cell_type": "code",
   "execution_count": null,
   "metadata": {},
   "outputs": [],
   "source": [
    "import json\n",
    "\n",
    "with open(\"scan_clean.log\") as f_log:\n",
    "    data = f_log.readlines()\n",
    "\n",
    "node_data = {}\n",
    "for line in data:\n",
    "    line_dict = json.loads(line)\n",
    "    for node in line_dict[\"nodes\"]:\n",
    "        if node[\"name\"] == \"undefined\":\n",
    "            continue\n",
    "        if node_data and node[\"name\"] in node_data:\n",
    "            node_data[node[\"name\"]].append(node[\"last_rssi\"])\n",
    "        else:\n",
    "            node_data.update({node[\"name\"]:[node[\"last_rssi\"]]})"
   ]
  },
  {
   "cell_type": "markdown",
   "metadata": {},
   "source": [
    "We can now plot the RSSI timeseries for each node:"
   ]
  },
  {
   "cell_type": "code",
   "execution_count": null,
   "metadata": {},
   "outputs": [],
   "source": [
    "import matplotlib.pyplot as plt\n",
    "\n",
    "fig, axs = plt.subplots(len(node_data), 1, sharey=True, sharex=True, squeeze=False)\n",
    "for idx, node in enumerate(node_data):\n",
    "    axs[idx, 0].plot(node_data[node], label=node)\n",
    "    axs[idx, 0].legend()\n",
    "    axs[idx, 0].set_ylabel('RSSI (dBm)')\n",
    "    axs[idx, 0].grid(True)\n",
    "axs[idx, 0].set_xlabel('sample')\n",
    "fig.suptitle('RSSI timeseries')"
   ]
  },
  {
   "cell_type": "markdown",
   "metadata": {},
   "source": [
    "Let's now plot the RSSI distributions:"
   ]
  },
  {
   "cell_type": "code",
   "execution_count": null,
   "metadata": {},
   "outputs": [],
   "source": [
    "fig, axs = plt.subplots(len(node_data), 1, sharey=True, sharex=True, squeeze=False)\n",
    "for idx, node in enumerate(node_data):\n",
    "    axs[idx, 0].hist(node_data[node], label=node)\n",
    "    axs[idx, 0].legend()\n",
    "    axs[idx, 0].set_ylabel('frequency')\n",
    "axs[idx, 0].set_xlabel('RSSI (dBm')\n",
    "fig.suptitle('RSSI distributions')"
   ]
  },
  {
   "cell_type": "markdown",
   "metadata": {},
   "source": [
    "Congratulations! You completed this BLE scan tutorial with success."
   ]
  }
 ],
 "metadata": {
  "kernelspec": {
   "display_name": "Python 3",
   "language": "python",
   "name": "python3"
  },
  "language_info": {
   "codemirror_mode": {
    "name": "ipython",
    "version": 3
   },
   "file_extension": ".py",
   "mimetype": "text/x-python",
   "name": "python",
   "nbconvert_exporter": "python",
   "pygments_lexer": "ipython3",
   "version": "3.8.6"
  }
 },
 "nbformat": 4,
 "nbformat_minor": 4
}
